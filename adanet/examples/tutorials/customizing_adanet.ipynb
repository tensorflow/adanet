{
  "cells": [
    {
      "cell_type": "markdown",
      "metadata": {
        "colab_type": "text",
        "id": "q4WF3l23pumU"
      },
      "source": [
        "##### Copyright 2018 The AdaNet Authors."
      ]
    },
    {
      "cell_type": "code",
      "execution_count": 0,
      "metadata": {
        "cellView": "both",
        "colab": {
          "test": {
            "output": "ignore",
            "timeout": 900
          }
        },
        "colab_type": "code",
        "id": "Kic2quJWppmx"
      },
      "outputs": [],
      "source": [
        "#@title Licensed under the Apache License, Version 2.0 (the \"License\");\n",
        "# you may not use this file except in compliance with the License.\n",
        "# You may obtain a copy of the License at\n",
        "#\n",
        "# https://www.apache.org/licenses/LICENSE-2.0\n",
        "#\n",
        "# Unless required by applicable law or agreed to in writing, software\n",
        "# distributed under the License is distributed on an \"AS IS\" BASIS,\n",
        "# WITHOUT WARRANTIES OR CONDITIONS OF ANY KIND, either express or implied.\n",
        "# See the License for the specific language governing permissions and\n",
        "# limitations under the License."
      ]
    },
    {
      "cell_type": "markdown",
      "metadata": {
        "colab_type": "text",
        "id": "aL7SpaKdirqG"
      },
      "source": [
        "# Customizing AdaNet"
      ]
    },
    {
      "cell_type": "markdown",
      "metadata": {
        "colab_type": "text",
        "id": "i5s1gsS1bOuB"
      },
      "source": [
        "\u003ctable class=\"tfo-notebook-buttons\" align=\"left\"\u003e\n",
        "  \u003ctd\u003e\n",
        "    \u003ca target=\"_blank\" href=\"https://colab.research.google.com/github/tensorflow/adanet/blob/master/adanet/examples/tutorials/customizing_adanet.ipynb\"\u003e\u003cimg src=\"https://www.tensorflow.org/images/colab_logo_32px.png\" /\u003eRun in Google Colab\u003c/a\u003e\n",
        "  \u003c/td\u003e\n",
        "  \u003ctd\u003e\n",
        "    \u003ca target=\"_blank\" href=\"https://github.com/tensorflow/adanet/blob/master/adanet/examples/tutorials/customizing_adanet.ipynb\"\u003e\u003cimg src=\"https://www.tensorflow.org/images/GitHub-Mark-32px.png\" /\u003eView source on GitHub\u003c/a\u003e\n",
        "  \u003c/td\u003e\n",
        "\u003c/table\u003e\n"
      ]
    },
    {
      "cell_type": "markdown",
      "metadata": {
        "colab_type": "text",
        "id": "ySKpPtPrmaCx"
      },
      "source": [
        "Often times, as a researcher or machine learning practitioner, you will have\n",
        "some prior knowledge about a dataset. Ideally you should be able to encode that\n",
        "knowledge into your machine learning algorithm. With `adanet`, you can do so by\n",
        "defining the *neural architecture search space* that the AdaNet algorithm should\n",
        "explore.\n",
        "\n",
        "In this tutorial, we will explore the flexibility of the `adanet` framework, and\n",
        "create a custom search space for an image-classification dataset using high-level\n",
        "TensorFlow libraries like the\n",
        "[`tf.keras.layers`](https://www.tensorflow.org/guide/keras#build_advanced_models)\n",
        "functional API.\n",
        "\n"]
    },
    {
      "cell_type": "code",
      "execution_count": 0,
      "metadata": {
        "colab": {
          "test": {
            "output": "ignore",
            "timeout": 900
          }
        },
        "colab_type": "code",
        "id": "xB1akik24RFa"
      },
      "outputs": [],
      "source": [
        "#@test {\"skip\": true}\n",
        "# If you're running this in Colab, first install the adanet package:\n",
        "!pip install adanet"
      ]
    },
    {
      "cell_type": "code",
      "execution_count": 0,
      "metadata": {
        "colab": {
          "test": {
            "output": "ignore",
            "timeout": 900
          }
        },
        "colab_type": "code",
        "id": "x_3b6xx2s6B9"
      },
      "outputs": [],
      "source": [
        "from __future__ import absolute_import\n",
        "from __future__ import division\n",
        "from __future__ import print_function\n",
        "\n",
        "import functools\n",
        "import os\n",
        "import shutil\n",
        "\n",
        "import adanet\n",
        "from adanet.examples import simple_dnn\n",
        "import matplotlib.pyplot as plt\n",
        "import tensorflow as tf\n",
        "\n",
        "\n",
        "# The random seed to use.\n",
        "RANDOM_SEED = 42\n",
        "\n",
        "LOG_DIR = '/tmp/models'"
      ]
    },
    {
      "cell_type": "markdown",
      "metadata": {
        "colab_type": "text",
        "id": "7gE5Mm9j2oYw"
      },
      "source": [
        "## Fashion MNIST dataset\n",
        "\n",
        "In this example, we will use the Fashion MNIST dataset\n",
        "[[Xiao et al., 2017](https://arxiv.org/abs/1708.07747)] for classifying fashion\n",
        "apparel images into one of ten categories:\n",
        "\n",
        "1.  T-shirt/top\n",
        "2.  Trouser\n",
        "3.  Pullover\n",
        "4.  Dress\n",
        "5.  Coat\n",
        "6.  Sandal\n",
        "7.  Shirt\n",
        "8.  Sneaker\n",
        "9.  Bag\n",
        "10. Ankle boot\n",
        "\n",
        "![Fashion MNIST](https://github.com/zalandoresearch/fashion-mnist/blob/master/doc/img/fashion-mnist-sprite.png?raw=true)"
      ]
    },
    {
      "cell_type": "markdown",
      "metadata": {
        "colab_type": "text",
        "id": "5_hRtdchqRZb"
      },
      "source": [
        "## Download the data\n",
        "\n",
        "Conveniently, the data is available via Keras:"
      ]
    },
    {
      "cell_type": "code",
      "execution_count": 0,
      "metadata": {
        "colab": {
          "height": 215,
          "test": {
            "output": "ignore",
            "timeout": 900
          }
        },
        "colab_type": "code",
        "executionInfo": {
          "elapsed": 1351,
          "status": "ok",
          "timestamp": 1545240446081,
          "user": {
            "displayName": "",
            "photoUrl": "",
            "userId": ""
          },
          "user_tz": 300
        },
        "id": "uYklOnPJ4h7g",
        "outputId": "4f27aeaa-81e9-4b4e-ddcf-1735528bf13f"
      },
      "outputs": [
        {
          "name": "stdout",
          "output_type": "stream",
          "text": [
            "Downloading data from https://storage.googleapis.com/tensorflow/tf-keras-datasets/train-labels-idx1-ubyte.gz\n",
            "32768/29515 [=================================] - 0s 0us/step\n",
            "40960/29515 [=========================================] - 0s 0us/step\n",
            "Downloading data from https://storage.googleapis.com/tensorflow/tf-keras-datasets/train-images-idx3-ubyte.gz\n",
            "26427392/26421880 [==============================] - 0s 0us/step\n",
            "26435584/26421880 [==============================] - 0s 0us/step\n",
            "Downloading data from https://storage.googleapis.com/tensorflow/tf-keras-datasets/t10k-labels-idx1-ubyte.gz\n",
            "16384/5148 [===============================================================================================] - 0s 0us/step\n",
            "Downloading data from https://storage.googleapis.com/tensorflow/tf-keras-datasets/t10k-images-idx3-ubyte.gz\n",
            "4423680/4422102 [==============================] - 0s 0us/step\n",
            "4431872/4422102 [==============================] - 0s 0us/step\n"
          ]
        }
      ],
      "source": [
        "(x_train, y_train), (x_test, y_test) = (\n",
        "    tf.keras.datasets.fashion_mnist.load_data())"
      ]
    },
    {
      "cell_type": "markdown",
      "metadata": {
        "colab_type": "text",
        "id": "tECo5dFd4QCa"
      },
      "source": [
        "## Supply the data in TensorFlow\n",
        "\n",
        "Our first task is to supply the data in TensorFlow. Using the\n",
        "tf.estimator.Estimator covention, we will define a function that returns an\n",
        "`input_fn` which returns feature and label `Tensors`.\n",
        "\n",
        "We will also use the `tf.data.Dataset` API to feed the data into our models."
      ]
    },
    {
      "cell_type": "code",
      "execution_count": 0,
      "metadata": {
        "colab": {
          "test": {
            "output": "ignore",
            "timeout": 900
          }
        },
        "colab_type": "code",
        "id": "gxTAoIXwsTH7"
      },
      "outputs": [],
      "source": [
        "FEATURES_KEY = \"images\"\n",
        "\n",
        "\n",
        "def generator(images, labels):\n",
        "  \"\"\"Returns a generator that returns image-label pairs.\"\"\"\n",
        "\n",
        "  def _gen():\n",
        "    for image, label in zip(images, labels):\n",
        "      yield image, label\n",
        "\n",
        "  return _gen\n",
        "\n",
        "\n",
        "def preprocess_image(image, label):\n",
        "  \"\"\"Preprocesses an image for an `Estimator`.\"\"\"\n",
        "  # First let's scale the pixel values to be between 0 and 1.\n",
        "  image = image / 255.\n",
        "  # Next we reshape the image so that we can apply a 2D convolution to it.\n",
        "  image = tf.reshape(image, [28, 28, 1])\n",
        "  # Finally the features need to be supplied as a dictionary.\n",
        "  features = {FEATURES_KEY: image}\n",
        "  return features, label\n",
        "\n",
        "\n",
        "def input_fn(partition, training, batch_size):\n",
        "  \"\"\"Generate an input_fn for the Estimator.\"\"\"\n",
        "\n",
        "  def _input_fn():\n",
        "    if partition == \"train\":\n",
        "      dataset = tf.data.Dataset.from_generator(\n",
        "          generator(x_train, y_train), (tf.float32, tf.int32), ((28, 28), ()))\n",
        "    elif partition == \"predict\":\n",
        "      dataset = tf.data.Dataset.from_generator(\n",
        "          generator(x_test[:10], y_test[:10]), (tf.float32, tf.int32), ((28,28), ()))\n",
        "    else:\n",
        "      dataset = tf.data.Dataset.from_generator(\n",
        "          generator(x_test, y_test), (tf.float32, tf.int32), ((28, 28), ()))\n",
        "\n",
        "    # We call repeat after shuffling, rather than before, to prevent separate\n",
        "    # epochs from blending together.\n",
        "    if training:\n",
        "      dataset = dataset.shuffle(10 * batch_size, seed=RANDOM_SEED).repeat()\n",
        "\n",
        "    dataset = dataset.map(preprocess_image).batch(batch_size)\n",
        "    iterator = dataset.make_one_shot_iterator()\n",
        "    features, labels = iterator.get_next()\n",
        "    return features, labels\n",
        "\n",
        "  return _input_fn"
      ]
    },
    {
      "cell_type": "markdown",
      "metadata": {
        "colab_type": "text",
        "id": "fhu2zpf9faIB"
      },
      "source": [
        "## Launch TensorBoard\n",
        "\n",
        "Let's run [TensorBoard](https://www.tensorflow.org/guide/summaries_and_tensorboard) to visualize model training over time. We'll use [ngrok](https://ngrok.com/) to tunnel traffic to localhost.\n",
        "\n",
        "*The instructions for setting up Tensorboard were obtained from https://www.dlology.com/blog/quick-guide-to-run-tensorboard-in-google-colab/*\n",
        "\n",
        "Run the next cells and follow the link to see the TensorBoard in a new tab."
      ]
    },
    {
      "cell_type": "code",
      "execution_count": 0,
      "metadata": {
        "colab": {},
        "colab_type": "code",
        "id": "S1UcP5yeaDz9"
      },
      "outputs": [],
      "source": [
        "#@test {\"skip\": true}\n",
        "\n",
        "get_ipython().system_raw(\n",
        "    'tensorboard --logdir {} --host 0.0.0.0 --port 6006 \u0026'\n",
        "    .format(LOG_DIR)\n",
        ")\n",
        "\n",
        "# Install ngrok binary.\n",
        "! wget https://bin.equinox.io/c/4VmDzA7iaHb/ngrok-stable-linux-amd64.zip\n",
        "! unzip ngrok-stable-linux-amd64.zip\n",
        "\n",
        "# Delete old logs dir.\n",
        "shutil.rmtree(LOG_DIR, ignore_errors=True)\n",
        "\n",
        "print(\"Follow this link to open TensorBoard in a new tab.\")\n",
        "get_ipython().system_raw('./ngrok http 6006 \u0026')\n",
        "! curl -s http://localhost:4040/api/tunnels | python3 -c \\\n",
        "    \"import sys, json; print(json.load(sys.stdin)['tunnels'][0]['public_url'])\"\n",
        "\n"]
    },
    {
      "cell_type": "markdown",
      "metadata": {
        "colab_type": "text",
        "id": "vm9yudEv5lQZ"
      },
      "source": [
        "## Establish baselines\n",
        "\n",
        "The next task should be to get somes baselines to see how our model performs on\n",
        "this dataset.\n",
        "\n",
        "Let's define some information to share with all our `tf.estimator.Estimators`:"
      ]
    },
    {
      "cell_type": "code",
      "execution_count": 0,
      "metadata": {
        "colab": {
          "test": {
            "output": "ignore",
            "timeout": 900
          }
        },
        "colab_type": "code",
        "id": "xNwSUWh-9_Ib"
      },
      "outputs": [],
      "source": [
        "# The number of classes.\n",
        "NUM_CLASSES = 10\n",
        "\n",
        "# We will average the losses in each mini-batch when computing gradients.\n",
        "loss_reduction = tf.losses.Reduction.SUM_OVER_BATCH_SIZE\n",
        "\n",
        "# A `Head` instance defines the loss function and metrics for `Estimators`.\n",
        "head = tf.contrib.estimator.multi_class_head(\n",
        "    NUM_CLASSES, loss_reduction=loss_reduction)\n",
        "\n",
        "# Some `Estimators` use feature columns for understanding their input features.\n",
        "feature_columns = [\n",
        "    tf.feature_column.numeric_column(FEATURES_KEY, shape=[28, 28, 1])\n",
        "]\n",
        "\n",
        "def make_config(experiment_name):\n",
        "  # Estimator configuration.\n",
        "  return tf.estimator.RunConfig(\n",
        "    save_checkpoints_steps=1000,\n",
        "    save_summary_steps=1000,\n",
        "    tf_random_seed=RANDOM_SEED,\n",
        "    model_dir=os.path.join(LOG_DIR, experiment_name))"
      ]
    },
    {
      "cell_type": "markdown",
      "metadata": {
        "colab_type": "text",
        "id": "QY0cv-ot-Gxs"
      },
      "source": [
        "Let's start simple, and train a linear model:"
      ]
    },
    {
      "cell_type": "code",
      "execution_count": 0,
      "metadata": {
        "cellView": "both",
        "colab": {
          "height": 53,
          "test": {
            "output": "ignore",
            "timeout": 900
          }
        },
        "colab_type": "code",
        "executionInfo": {
          "elapsed": 132686,
          "status": "ok",
          "timestamp": 1545240584407,
          "user": {
            "displayName": "",
            "photoUrl": "",
            "userId": ""
          },
          "user_tz": 300
        },
        "id": "s8wJKsi06blX",
        "outputId": "3e8e638d-7d5e-496c-8508-21fdb9d8a7a0"
      },
      "outputs": [
        {
          "name": "stdout",
          "output_type": "stream",
          "text": [
            "WARNING:tensorflow:Using temporary folder as model directory: /tmp/tmpv3_YXD\n",
            "INFO:tensorflow:Using config: {'_save_checkpoints_secs': None, '_num_ps_replicas': 0, '_keep_checkpoint_max': 5, '_task_type': 'worker', '_global_id_in_cluster': 0, '_is_chief': True, '_cluster_spec': \u003ctensorflow.python.training.server_lib.ClusterSpec object at 0x7fb7dd214b90\u003e, '_model_dir': '/tmp/tmpv3_YXD', '_protocol': None, '_save_checkpoints_steps': 50000, '_keep_checkpoint_every_n_hours': 10000, '_service': None, '_session_config': allow_soft_placement: true\n",
            "graph_options {\n",
            "  rewrite_options {\n",
            "    meta_optimizer_iterations: ONE\n",
            "  }\n",
            "}\n",
            ", '_tf_random_seed': 42, '_save_summary_steps': 50000, '_device_fn': None, '_experimental_distribute': None, '_num_worker_replicas': 1, '_task_id': 0, '_log_step_count_steps': 100, '_evaluation_master': '', '_eval_distribute': None, '_train_distribute': None, '_master': ''}\n",
            "INFO:tensorflow:Not using Distribute Coordinator.\n",
            "INFO:tensorflow:Running training and evaluation locally (non-distributed).\n",
            "INFO:tensorflow:Start train and evaluate loop. The evaluate will happen after every checkpoint. Checkpoint frequency is determined based on RunConfig arguments: save_checkpoints_steps 50000 or save_checkpoints_secs None.\n",
            "INFO:tensorflow:Calling model_fn.\n",
            "INFO:tensorflow:Done calling model_fn.\n",
            "INFO:tensorflow:Create CheckpointSaverHook.\n",
            "INFO:tensorflow:Graph was finalized.\n",
            "INFO:tensorflow:Running local_init_op.\n",
            "INFO:tensorflow:Done running local_init_op.\n",
            "INFO:tensorflow:Saving checkpoints for 0 into /tmp/tmpv3_YXD/model.ckpt.\n",
            "INFO:tensorflow:loss = 2.3025854, step = 1\n",
            "INFO:tensorflow:global_step/sec: 78.4217\n",
            "INFO:tensorflow:loss = 1.1483729, step = 101 (1.277 sec)\n",
            "INFO:tensorflow:global_step/sec: 85.4069\n",
            "INFO:tensorflow:loss = 0.5317185, step = 201 (1.171 sec)\n",
            "INFO:tensorflow:global_step/sec: 85.5113\n",
            "INFO:tensorflow:loss = 0.69216, step = 301 (1.169 sec)\n",
            "INFO:tensorflow:global_step/sec: 86.0727\n",
            "INFO:tensorflow:loss = 0.5465001, step = 401 (1.162 sec)\n",
            "INFO:tensorflow:global_step/sec: 87.7462\n",
            "INFO:tensorflow:loss = 0.5904441, step = 501 (1.139 sec)\n",
            "INFO:tensorflow:global_step/sec: 85.2336\n",
            "INFO:tensorflow:loss = 0.50240695, step = 601 (1.173 sec)\n",
            "INFO:tensorflow:global_step/sec: 86.591\n",
            "INFO:tensorflow:loss = 0.45161504, step = 701 (1.155 sec)\n",
            "INFO:tensorflow:global_step/sec: 84.779\n",
            "INFO:tensorflow:loss = 0.55855703, step = 801 (1.179 sec)\n",
            "INFO:tensorflow:global_step/sec: 86.2151\n",
            "INFO:tensorflow:loss = 0.45025244, step = 901 (1.160 sec)\n",
            "INFO:tensorflow:global_step/sec: 85.855\n",
            "INFO:tensorflow:loss = 0.30628046, step = 1001 (1.165 sec)\n",
            "INFO:tensorflow:global_step/sec: 86.2517\n",
            "INFO:tensorflow:loss = 0.36369488, step = 1101 (1.159 sec)\n",
            "INFO:tensorflow:global_step/sec: 87.135\n",
            "INFO:tensorflow:loss = 0.46128386, step = 1201 (1.148 sec)\n",
            "INFO:tensorflow:global_step/sec: 86.0694\n",
            "INFO:tensorflow:loss = 0.37242556, step = 1301 (1.162 sec)\n",
            "INFO:tensorflow:global_step/sec: 86.9772\n",
            "INFO:tensorflow:loss = 0.6352097, step = 1401 (1.150 sec)\n",
            "INFO:tensorflow:global_step/sec: 85.2288\n",
            "INFO:tensorflow:loss = 0.64497614, step = 1501 (1.173 sec)\n",
            "INFO:tensorflow:global_step/sec: 86.1174\n",
            "INFO:tensorflow:loss = 0.44837192, step = 1601 (1.161 sec)\n",
            "INFO:tensorflow:global_step/sec: 85.2724\n",
            "INFO:tensorflow:loss = 0.19677357, step = 1701 (1.173 sec)\n",
            "INFO:tensorflow:global_step/sec: 85.3417\n",
            "INFO:tensorflow:loss = 0.30824977, step = 1801 (1.172 sec)\n",
            "INFO:tensorflow:global_step/sec: 82.9701\n",
            "INFO:tensorflow:loss = 0.41565034, step = 1901 (1.205 sec)\n",
            "INFO:tensorflow:global_step/sec: 86.4188\n",
            "INFO:tensorflow:loss = 0.50474447, step = 2001 (1.157 sec)\n",
            "INFO:tensorflow:global_step/sec: 85.6055\n",
            "INFO:tensorflow:loss = 0.61880505, step = 2101 (1.168 sec)\n",
            "INFO:tensorflow:global_step/sec: 88.3828\n",
            "INFO:tensorflow:loss = 0.26540744, step = 2201 (1.131 sec)\n",
            "INFO:tensorflow:global_step/sec: 85.7678\n",
            "INFO:tensorflow:loss = 0.6249703, step = 2301 (1.170 sec)\n",
            "INFO:tensorflow:global_step/sec: 86.285\n",
            "INFO:tensorflow:loss = 0.4627853, step = 2401 (1.155 sec)\n",
            "INFO:tensorflow:global_step/sec: 87.0864\n",
            "INFO:tensorflow:loss = 0.3652569, step = 2501 (1.149 sec)\n",
            "INFO:tensorflow:global_step/sec: 84.7971\n",
            "INFO:tensorflow:loss = 0.5498886, step = 2601 (1.179 sec)\n",
            "INFO:tensorflow:global_step/sec: 87.2721\n",
            "INFO:tensorflow:loss = 0.8027369, step = 2701 (1.146 sec)\n",
            "INFO:tensorflow:global_step/sec: 79.4374\n",
            "INFO:tensorflow:loss = 0.35317737, step = 2801 (1.259 sec)\n",
            "INFO:tensorflow:global_step/sec: 79.952\n",
            "INFO:tensorflow:loss = 0.40077135, step = 2901 (1.251 sec)\n",
            "INFO:tensorflow:global_step/sec: 79.9757\n",
            "INFO:tensorflow:loss = 0.4046799, step = 3001 (1.251 sec)\n",
            "INFO:tensorflow:global_step/sec: 79.1359\n",
            "INFO:tensorflow:loss = 0.3870783, step = 3101 (1.264 sec)\n",
            "INFO:tensorflow:global_step/sec: 83.3249\n",
            "INFO:tensorflow:loss = 0.48983032, step = 3201 (1.200 sec)\n",
            "INFO:tensorflow:global_step/sec: 85.9455\n",
            "INFO:tensorflow:loss = 0.44130433, step = 3301 (1.164 sec)\n",
            "INFO:tensorflow:global_step/sec: 87.8296\n",
            "INFO:tensorflow:loss = 0.44600248, step = 3401 (1.138 sec)\n",
            "INFO:tensorflow:global_step/sec: 86.9828\n",
            "INFO:tensorflow:loss = 0.39337838, step = 3501 (1.150 sec)\n",
            "INFO:tensorflow:global_step/sec: 86.7191\n",
            "INFO:tensorflow:loss = 0.39527538, step = 3601 (1.153 sec)\n",
            "INFO:tensorflow:global_step/sec: 86.3277\n",
            "INFO:tensorflow:loss = 0.5779325, step = 3701 (1.158 sec)\n",
            "INFO:tensorflow:global_step/sec: 86.8714\n",
            "INFO:tensorflow:loss = 0.34049273, step = 3801 (1.151 sec)\n",
            "INFO:tensorflow:global_step/sec: 88.4383\n",
            "INFO:tensorflow:loss = 0.24868618, step = 3901 (1.131 sec)\n",
            "INFO:tensorflow:global_step/sec: 87.1281\n",
            "INFO:tensorflow:loss = 0.4210478, step = 4001 (1.147 sec)\n",
            "INFO:tensorflow:global_step/sec: 87.4262\n",
            "INFO:tensorflow:loss = 0.5045028, step = 4101 (1.144 sec)\n",
            "INFO:tensorflow:global_step/sec: 86.6544\n",
            "INFO:tensorflow:loss = 0.4103523, step = 4201 (1.154 sec)\n",
            "INFO:tensorflow:global_step/sec: 87.8312\n",
            "INFO:tensorflow:loss = 0.5953512, step = 4301 (1.139 sec)\n",
            "INFO:tensorflow:global_step/sec: 88.4659\n",
            "INFO:tensorflow:loss = 0.23190314, step = 4401 (1.131 sec)\n",
            "INFO:tensorflow:global_step/sec: 86.0797\n",
            "INFO:tensorflow:loss = 0.5709208, step = 4501 (1.161 sec)\n",
            "INFO:tensorflow:global_step/sec: 87.6714\n",
            "INFO:tensorflow:loss = 0.33438712, step = 4601 (1.141 sec)\n",
            "INFO:tensorflow:global_step/sec: 84.8791\n",
            "INFO:tensorflow:loss = 0.76975584, step = 4701 (1.178 sec)\n",
            "INFO:tensorflow:global_step/sec: 88.5043\n",
            "INFO:tensorflow:loss = 0.48181474, step = 4801 (1.130 sec)\n",
            "INFO:tensorflow:global_step/sec: 87.797\n",
            "INFO:tensorflow:loss = 0.30714703, step = 4901 (1.139 sec)\n",
            "INFO:tensorflow:Saving checkpoints for 5000 into /tmp/tmpv3_YXD/model.ckpt.\n",
            "INFO:tensorflow:Calling model_fn.\n",
            "INFO:tensorflow:Done calling model_fn.\n",
            "INFO:tensorflow:Starting evaluation at 2018-12-13-18:44:39\n",
            "INFO:tensorflow:Graph was finalized.\n",
            "INFO:tensorflow:Restoring parameters from /tmp/tmpv3_YXD/model.ckpt-5000\n",
            "INFO:tensorflow:Running local_init_op.\n",
            "INFO:tensorflow:Done running local_init_op.\n",
            "INFO:tensorflow:Finished evaluation at 2018-12-13-18:44:41\n",
            "INFO:tensorflow:Saving dict for global step 5000: accuracy = 0.8413, average_loss = 0.46480885, global_step = 5000, loss = 0.46422938\n",
            "INFO:tensorflow:Saving 'checkpoint_path' summary for global step 5000: /tmp/tmpv3_YXD/model.ckpt-5000\n",
            "INFO:tensorflow:Loss for final step: 0.6494813.\n",
            "Accuracy: 0.8413\n",
            "Loss: 0.46480885\n"
          ]
        }
      ],
      "source": [
        "#@test {\"skip\": true}\n",
        "#@title Parameters\n",
        "LEARNING_RATE = 0.001  #@param {type:\"number\"}\n",
        "TRAIN_STEPS = 5000  #@param {type:\"integer\"}\n",
        "BATCH_SIZE = 64  #@param {type:\"integer\"}\n",
        "\n",
        "estimator = tf.estimator.LinearClassifier(\n",
        "    feature_columns=feature_columns,\n",
        "    n_classes=NUM_CLASSES,\n",
        "    optimizer=tf.train.RMSPropOptimizer(learning_rate=LEARNING_RATE),\n",
        "    loss_reduction=loss_reduction,\n",
        "    config=make_config(\"linear\"))\n",
        "\n",
        "results, _ = tf.estimator.train_and_evaluate(\n",
        "    estimator,\n",
        "    train_spec=tf.estimator.TrainSpec(\n",
        "        input_fn=input_fn(\"train\", training=True, batch_size=BATCH_SIZE),\n",
        "        max_steps=TRAIN_STEPS),\n",
        "    eval_spec=tf.estimator.EvalSpec(\n",
        "        input_fn=input_fn(\"test\", training=False, batch_size=BATCH_SIZE),\n",
        "        steps=None,\n",
        "        start_delay_secs=1,\n",
        "        throttle_secs=1,  \n",
        "    ))\n",
        "print(\"Accuracy:\", results[\"accuracy\"])\n",
        "print(\"Loss:\", results[\"average_loss\"])"
      ]
    },
    {
      "cell_type": "markdown",
      "metadata": {
        "colab_type": "text",
        "id": "a-1hE03c7_Yj"
      },
      "source": [
        "The linear model with default parameters achieves about **84.13% accuracy**.\n",
        "\n",
        "Let's see if we can do better with the `simple_dnn` AdaNet:"
      ]
    },
    {
      "cell_type": "code",
      "execution_count": 0,
      "metadata": {
        "colab": {
          "height": 2154,
          "test": {
            "output": "ignore",
            "timeout": 900
          }
        },
        "colab_type": "code",
        "executionInfo": {
          "elapsed": 111638,
          "status": "error",
          "timestamp": 1545240696091,
          "user": {
            "displayName": "",
            "photoUrl": "",
            "userId": ""
          },
          "user_tz": 300
        },
        "id": "9fAoRYd19eUs",
        "outputId": "e842798b-ca2b-46a8-aa23-41c96a92d929"
      },
      "outputs": [
        {
          "name": "stdout",
          "output_type": "stream",
          "text": [
            "WARNING:tensorflow:Using temporary folder as model directory: /tmp/tmpBpWYGG\n",
            "INFO:tensorflow:Using config: {'_save_checkpoints_secs': None, '_num_ps_replicas': 0, '_keep_checkpoint_max': 5, '_task_type': 'worker', '_global_id_in_cluster': 0, '_is_chief': True, '_cluster_spec': \u003ctensorflow.python.training.server_lib.ClusterSpec object at 0x7fb7da305b50\u003e, '_model_dir': '/tmp/tmpBpWYGG', '_protocol': None, '_save_checkpoints_steps': 50000, '_keep_checkpoint_every_n_hours': 10000, '_service': None, '_session_config': allow_soft_placement: true\n",
            "graph_options {\n",
            "  rewrite_options {\n",
            "    meta_optimizer_iterations: ONE\n",
            "  }\n",
            "}\n",
            ", '_tf_random_seed': 42, '_save_summary_steps': 50000, '_device_fn': None, '_experimental_distribute': None, '_num_worker_replicas': 1, '_task_id': 0, '_log_step_count_steps': 100, '_evaluation_master': '', '_eval_distribute': None, '_train_distribute': None, '_master': ''}\n",
            "INFO:tensorflow:Not using Distribute Coordinator.\n",
            "INFO:tensorflow:Running training and evaluation locally (non-distributed).\n",
            "INFO:tensorflow:Start train and evaluate loop. The evaluate will happen after every checkpoint. Checkpoint frequency is determined based on RunConfig arguments: save_checkpoints_steps 50000 or save_checkpoints_secs None.\n",
            "INFO:tensorflow:Beginning training AdaNet iteration 0\n",
            "INFO:tensorflow:Calling model_fn.\n",
            "INFO:tensorflow:Building iteration 0\n",
            "INFO:tensorflow:Building subnetwork 'linear'\n",
            "WARNING:tensorflow:From /usr/local/lib/python2.7/dist-packages/adanet/examples/simple_dnn.py:104: calling __new__ (from adanet.core.subnetwork.generator) with persisted_tensors is deprecated and will be removed in a future version.\n",
            "Instructions for updating:\n",
            "`persisted_tensors` is deprecated, please use `shared` instead.\n",
            "INFO:tensorflow:Building subnetwork '1_layer_dnn'\n",
            "INFO:tensorflow:Done calling model_fn.\n",
            "INFO:tensorflow:Create CheckpointSaverHook.\n",
            "INFO:tensorflow:Graph was finalized.\n",
            "INFO:tensorflow:Running local_init_op.\n",
            "INFO:tensorflow:Done running local_init_op.\n",
            "INFO:tensorflow:Saving checkpoints for 0 into /tmp/tmpBpWYGG/model.ckpt.\n",
            "INFO:tensorflow:loss = 2.5908535, step = 1\n",
            "INFO:tensorflow:global_step/sec: 62.6364\n",
            "INFO:tensorflow:loss = 0.99051607, step = 101 (1.598 sec)\n",
            "INFO:tensorflow:global_step/sec: 77.613\n",
            "INFO:tensorflow:loss = 0.42087823, step = 201 (1.288 sec)\n",
            "INFO:tensorflow:global_step/sec: 77.5399\n",
            "INFO:tensorflow:loss = 0.54013, step = 301 (1.289 sec)\n",
            "INFO:tensorflow:global_step/sec: 78.6072\n",
            "INFO:tensorflow:loss = 0.4134988, step = 401 (1.272 sec)\n",
            "INFO:tensorflow:global_step/sec: 78.7752\n",
            "INFO:tensorflow:loss = 0.5669622, step = 501 (1.269 sec)\n",
            "INFO:tensorflow:global_step/sec: 80.2865\n",
            "INFO:tensorflow:loss = 0.39677918, step = 601 (1.245 sec)\n",
            "INFO:tensorflow:global_step/sec: 79.4194\n",
            "INFO:tensorflow:loss = 0.35278338, step = 701 (1.259 sec)\n",
            "INFO:tensorflow:global_step/sec: 79.3689\n",
            "INFO:tensorflow:loss = 0.5044695, step = 801 (1.260 sec)\n",
            "INFO:tensorflow:global_step/sec: 80.2831\n",
            "INFO:tensorflow:loss = 0.38145697, step = 901 (1.246 sec)\n",
            "INFO:tensorflow:global_step/sec: 76.9801\n",
            "INFO:tensorflow:loss = 0.20107026, step = 1001 (1.299 sec)\n",
            "INFO:tensorflow:global_step/sec: 78.9748\n",
            "INFO:tensorflow:loss = 0.2736662, step = 1101 (1.266 sec)\n",
            "INFO:tensorflow:global_step/sec: 79.4406\n",
            "INFO:tensorflow:loss = 0.42778087, step = 1201 (1.259 sec)\n",
            "INFO:tensorflow:global_step/sec: 79.3415\n",
            "INFO:tensorflow:loss = 0.38598654, step = 1301 (1.260 sec)\n",
            "INFO:tensorflow:global_step/sec: 75.5153\n",
            "INFO:tensorflow:loss = 0.5578107, step = 1401 (1.324 sec)\n",
            "INFO:tensorflow:global_step/sec: 78.7477\n",
            "INFO:tensorflow:loss = 0.47856787, step = 1501 (1.270 sec)\n",
            "INFO:tensorflow:global_step/sec: 78.5178\n",
            "INFO:tensorflow:loss = 0.32456928, step = 1601 (1.274 sec)\n",
            "INFO:tensorflow:global_step/sec: 80.1592\n",
            "INFO:tensorflow:loss = 0.14113683, step = 1701 (1.248 sec)\n",
            "INFO:tensorflow:global_step/sec: 79.9168\n",
            "INFO:tensorflow:loss = 0.21314168, step = 1801 (1.251 sec)\n",
            "INFO:tensorflow:global_step/sec: 77.9573\n",
            "INFO:tensorflow:loss = 0.32758698, step = 1901 (1.283 sec)\n",
            "INFO:tensorflow:global_step/sec: 79.9252\n",
            "INFO:tensorflow:loss = 0.33568507, step = 2001 (1.251 sec)\n",
            "INFO:tensorflow:global_step/sec: 78.5538\n",
            "INFO:tensorflow:loss = 0.5402397, step = 2101 (1.273 sec)\n",
            "INFO:tensorflow:global_step/sec: 79.6781\n",
            "INFO:tensorflow:loss = 0.18559779, step = 2201 (1.255 sec)\n",
            "INFO:tensorflow:global_step/sec: 79.7851\n",
            "INFO:tensorflow:loss = 0.634346, step = 2301 (1.253 sec)\n",
            "INFO:tensorflow:global_step/sec: 79.0365\n",
            "INFO:tensorflow:loss = 0.3705944, step = 2401 (1.265 sec)\n",
            "INFO:tensorflow:Saving checkpoints for 2500 into /tmp/tmpBpWYGG/model.ckpt.\n",
            "INFO:tensorflow:Calling model_fn.\n",
            "INFO:tensorflow:Building iteration 0\n",
            "INFO:tensorflow:Building subnetwork 'linear'\n",
            "INFO:tensorflow:Building subnetwork '1_layer_dnn'\n",
            "INFO:tensorflow:Done calling model_fn.\n",
            "INFO:tensorflow:Starting evaluation at 2018-12-13-18:45:18\n",
            "INFO:tensorflow:Graph was finalized.\n",
            "INFO:tensorflow:Restoring parameters from /tmp/tmpBpWYGG/model.ckpt-2500\n",
            "INFO:tensorflow:Running local_init_op.\n",
            "INFO:tensorflow:Done running local_init_op.\n",
            "INFO:tensorflow:Saving candidate 't0_linear' dict for global step 2500: accuracy/adanet/adanet_weighted_ensemble = 0.8415, accuracy/adanet/subnetwork = 0.8415, accuracy/adanet/uniform_average_ensemble = 0.8415, architecture/adanet/ensembles = \n",
            "W\n",
            "9adanet/iteration_0/ensemble_t0_linear/architecture/adanetB\u0010\u0008\u0007\u0012\u0000B\n",
            "| linear |J\u0008\n",
            "\u0006\n",
            "\u0004text, average_loss/adanet/adanet_weighted_ensemble = 0.4806687, average_loss/adanet/subnetwork = 0.4806687, average_loss/adanet/uniform_average_ensemble = 0.4806687, loss/adanet/adanet_weighted_ensemble = 0.47982842, loss/adanet/subnetwork = 0.47982842, loss/adanet/uniform_average_ensemble = 0.47982842\n",
            "INFO:tensorflow:Saving candidate 't0_1_layer_dnn' dict for global step 2500: accuracy/adanet/adanet_weighted_ensemble = 0.8566, accuracy/adanet/subnetwork = 0.8566, accuracy/adanet/uniform_average_ensemble = 0.8566, architecture/adanet/ensembles = \n",
            "a\n",
            "\u003eadanet/iteration_0/ensemble_t0_1_layer_dnn/architecture/adanetB\u0015\u0008\u0007\u0012\u0000B\u000f| 1_layer_dnn |J\u0008\n",
            "\u0006\n",
            "\u0004text, average_loss/adanet/adanet_weighted_ensemble = 0.40864596, average_loss/adanet/subnetwork = 0.40864596, average_loss/adanet/uniform_average_ensemble = 0.40864596, loss/adanet/adanet_weighted_ensemble = 0.40789038, loss/adanet/subnetwork = 0.40789038, loss/adanet/uniform_average_ensemble = 0.40789038\n",
            "INFO:tensorflow:Finished evaluation at 2018-12-13-18:45:22\n",
            "INFO:tensorflow:Saving dict for global step 2500: accuracy = 0.8566, accuracy/adanet/adanet_weighted_ensemble = 0.8566, accuracy/adanet/subnetwork = 0.8566, accuracy/adanet/uniform_average_ensemble = 0.8566, average_loss = 0.40864596, average_loss/adanet/adanet_weighted_ensemble = 0.40864596, average_loss/adanet/subnetwork = 0.40864596, average_loss/adanet/uniform_average_ensemble = 0.40864596, global_step = 2500, loss = 0.40789038, loss/adanet/adanet_weighted_ensemble = 0.40789038, loss/adanet/subnetwork = 0.40789038, loss/adanet/uniform_average_ensemble = 0.40789038\n",
            "INFO:tensorflow:Saving 'checkpoint_path' summary for global step 2500: /tmp/tmpBpWYGG/model.ckpt-2500\n",
            "INFO:tensorflow:Loss for final step: 0.3498758.\n",
            "INFO:tensorflow:Finished training Adanet iteration 0\n",
            "INFO:tensorflow:Beginning bookkeeping phase for iteration 0\n",
            "INFO:tensorflow:Building iteration 0\n",
            "INFO:tensorflow:Building subnetwork 'linear'\n",
            "INFO:tensorflow:Building subnetwork '1_layer_dnn'\n",
            "INFO:tensorflow:Starting ensemble evaluation for iteration 0\n",
            "INFO:tensorflow:Restoring parameters from /tmp/tmpBpWYGG/model.ckpt-2500\n",
            "WARNING:tensorflow:From /usr/local/lib/python2.7/dist-packages/adanet/core/estimator.py:717: start_queue_runners (from tensorflow.python.training.queue_runner_impl) is deprecated and will be removed in a future version.\n",
            "Instructions for updating:\n",
            "To construct input pipelines, use the `tf.data` module.\n",
            "WARNING:tensorflow:`tf.train.start_queue_runners()` was called when no queue runners were defined. You can safely remove the call to this deprecated function.\n",
            "INFO:tensorflow:Encountered end of input after 939 evaluations\n",
            "INFO:tensorflow:Computed ensemble metrics: adanet_loss/t0_linear = 0.425563, adanet_loss/t0_1_layer_dnn = 0.343846\n",
            "INFO:tensorflow:Finished ensemble evaluation for iteration 0\n",
            "INFO:tensorflow:'t0_1_layer_dnn' at index 1 is moving onto the next iteration\n",
            "INFO:tensorflow:Importing architecture from /tmp/tmpBpWYGG/architecture-0.txt: ['0:1_layer_dnn'].\n",
            "INFO:tensorflow:Rebuilding iteration 0\n",
            "INFO:tensorflow:Building subnetwork '1_layer_dnn'\n",
            "INFO:tensorflow:Warm-starting from: (u'/tmp/tmpBpWYGG/model.ckpt-2500',)\n",
            "INFO:tensorflow:Warm-starting variable: adanet/iteration_0/ensemble_t0_1_layer_dnn/weighted_subnetwork_0/logits/mixture_weight; prev_var_name: Unchanged\n",
            "INFO:tensorflow:Warm-starting variable: global_step; prev_var_name: Unchanged\n",
            "INFO:tensorflow:Warm-starting variable: adanet/iteration_0/candidate_t0_1_layer_dnn/adanet/iteration_0/candidate_t0_1_layer_dnn/adanet_loss/local_step; prev_var_name: Unchanged\n",
            "INFO:tensorflow:Warm-starting variable: adanet/iteration_0/ensemble_t0_1_layer_dnn/bias; prev_var_name: Unchanged\n",
            "INFO:tensorflow:Warm-starting variable: adanet/iteration_0/step; prev_var_name: Unchanged\n",
            "INFO:tensorflow:Warm-starting variable: adanet/iteration_0/ensemble_t0_1_layer_dnn/weighted_subnetwork_0/subnetwork/dense/bias; prev_var_name: Unchanged\n",
            "INFO:tensorflow:Warm-starting variable: adanet/iteration_0/candidate_t0_1_layer_dnn/adanet_loss; prev_var_name: Unchanged\n",
            "INFO:tensorflow:Warm-starting variable: adanet/iteration_0/train_op/is_over/is_over_var_fn/is_over_var; prev_var_name: Unchanged\n",
            "INFO:tensorflow:Warm-starting variable: adanet/iteration_0/ensemble_t0_1_layer_dnn/weighted_subnetwork_0/subnetwork/dense/kernel; prev_var_name: Unchanged\n",
            "INFO:tensorflow:Warm-starting variable: adanet/iteration_0/candidate_t0_1_layer_dnn/adanet/iteration_0/candidate_t0_1_layer_dnn/adanet_loss/biased; prev_var_name: Unchanged\n",
            "INFO:tensorflow:Warm-starting variable: adanet/iteration_0/ensemble_t0_1_layer_dnn/weighted_subnetwork_0/subnetwork/dense_1/kernel; prev_var_name: Unchanged\n",
            "INFO:tensorflow:Warm-starting variable: adanet/iteration_0/ensemble_t0_1_layer_dnn/weighted_subnetwork_0/subnetwork/dense_1/bias; prev_var_name: Unchanged\n",
            "INFO:tensorflow:Building iteration 1\n",
            "INFO:tensorflow:Building subnetwork '1_layer_dnn'\n",
            "INFO:tensorflow:Building subnetwork '2_layer_dnn'\n",
            "INFO:tensorflow:Overwriting checkpoint with new graph for iteration 1 to /tmp/tmpBpWYGG/model.ckpt-2500\n",
            "WARNING:tensorflow:`tf.train.start_queue_runners()` was called when no queue runners were defined. You can safely remove the call to this deprecated function.\n",
            "INFO:tensorflow:Finished bookkeeping phase for iteration 0\n",
            "INFO:tensorflow:Beginning training AdaNet iteration 1\n",
            "INFO:tensorflow:Calling model_fn.\n",
            "INFO:tensorflow:Importing architecture from /tmp/tmpBpWYGG/architecture-0.txt: ['0:1_layer_dnn'].\n",
            "INFO:tensorflow:Rebuilding iteration 0\n",
            "INFO:tensorflow:Building subnetwork '1_layer_dnn'\n",
            "INFO:tensorflow:Building iteration 1\n",
            "INFO:tensorflow:Building subnetwork '1_layer_dnn'\n",
            "INFO:tensorflow:Building subnetwork '2_layer_dnn'\n",
            "INFO:tensorflow:Done calling model_fn.\n",
            "INFO:tensorflow:Create CheckpointSaverHook.\n",
            "INFO:tensorflow:Graph was finalized.\n",
            "INFO:tensorflow:Restoring parameters from /tmp/tmpBpWYGG/increment.ckpt-1\n",
            "INFO:tensorflow:Running local_init_op.\n",
            "INFO:tensorflow:Done running local_init_op.\n",
            "INFO:tensorflow:Saving checkpoints for 2500 into /tmp/tmpBpWYGG/model.ckpt.\n",
            "INFO:tensorflow:loss = 0.24298608, step = 2501\n",
            "INFO:tensorflow:global_step/sec: 56.6617\n",
            "INFO:tensorflow:loss = 0.33409065, step = 2601 (1.766 sec)\n",
            "INFO:tensorflow:global_step/sec: 78.124\n",
            "INFO:tensorflow:loss = 0.20756069, step = 2701 (1.280 sec)\n",
            "INFO:tensorflow:global_step/sec: 77.2965\n",
            "INFO:tensorflow:loss = 0.3423041, step = 2801 (1.294 sec)\n",
            "INFO:tensorflow:global_step/sec: 79.225\n",
            "INFO:tensorflow:loss = 0.38019755, step = 2901 (1.262 sec)\n",
            "INFO:tensorflow:global_step/sec: 78.2797\n",
            "INFO:tensorflow:loss = 0.31078112, step = 3001 (1.278 sec)\n",
            "INFO:tensorflow:global_step/sec: 77.6699\n",
            "INFO:tensorflow:loss = 0.2353632, step = 3101 (1.288 sec)\n",
            "INFO:tensorflow:global_step/sec: 78.9738\n",
            "INFO:tensorflow:loss = 0.25860834, step = 3201 (1.266 sec)\n",
            "INFO:tensorflow:global_step/sec: 79.3627\n",
            "INFO:tensorflow:loss = 0.37581128, step = 3301 (1.260 sec)\n",
            "INFO:tensorflow:global_step/sec: 77.7281\n",
            "INFO:tensorflow:loss = 0.273139, step = 3401 (1.286 sec)\n",
            "INFO:tensorflow:global_step/sec: 77.6977\n",
            "INFO:tensorflow:loss = 0.1418717, step = 3501 (1.288 sec)\n",
            "INFO:tensorflow:global_step/sec: 78.2933\n",
            "INFO:tensorflow:loss = 0.2681304, step = 3601 (1.277 sec)\n",
            "INFO:tensorflow:global_step/sec: 77.4242\n",
            "INFO:tensorflow:loss = 0.3804762, step = 3701 (1.292 sec)\n",
            "INFO:tensorflow:global_step/sec: 76.9244\n",
            "INFO:tensorflow:loss = 0.32000834, step = 3801 (1.300 sec)\n",
            "INFO:tensorflow:global_step/sec: 78.8382\n",
            "INFO:tensorflow:loss = 0.36946106, step = 3901 (1.268 sec)\n",
            "INFO:tensorflow:global_step/sec: 79.5428\n",
            "INFO:tensorflow:loss = 0.38832623, step = 4001 (1.257 sec)\n",
            "INFO:tensorflow:global_step/sec: 71.8387\n",
            "INFO:tensorflow:loss = 0.34555018, step = 4101 (1.392 sec)\n",
            "INFO:tensorflow:global_step/sec: 76.6725\n",
            "INFO:tensorflow:loss = 0.21983796, step = 4201 (1.304 sec)\n",
            "INFO:tensorflow:global_step/sec: 78.3602\n",
            "INFO:tensorflow:loss = 0.17176698, step = 4301 (1.276 sec)\n",
            "INFO:tensorflow:global_step/sec: 76.9497\n",
            "INFO:tensorflow:loss = 0.34545347, step = 4401 (1.300 sec)\n",
            "INFO:tensorflow:global_step/sec: 77.9193\n",
            "INFO:tensorflow:loss = 0.339509, step = 4501 (1.284 sec)\n",
            "INFO:tensorflow:global_step/sec: 77.6756\n",
            "INFO:tensorflow:loss = 0.5344475, step = 4601 (1.287 sec)\n",
            "INFO:tensorflow:global_step/sec: 77.3863\n",
            "INFO:tensorflow:loss = 0.17075369, step = 4701 (1.292 sec)\n",
            "INFO:tensorflow:global_step/sec: 78.0709\n",
            "INFO:tensorflow:loss = 0.53067696, step = 4801 (1.281 sec)\n",
            "INFO:tensorflow:global_step/sec: 77.9967\n",
            "INFO:tensorflow:loss = 0.29755312, step = 4901 (1.282 sec)\n",
            "INFO:tensorflow:Saving checkpoints for 5000 into /tmp/tmpBpWYGG/model.ckpt.\n",
            "INFO:tensorflow:Calling model_fn.\n",
            "INFO:tensorflow:Importing architecture from /tmp/tmpBpWYGG/architecture-0.txt: ['0:1_layer_dnn'].\n",
            "INFO:tensorflow:Rebuilding iteration 0\n",
            "INFO:tensorflow:Building subnetwork '1_layer_dnn'\n",
            "INFO:tensorflow:Building iteration 1\n",
            "INFO:tensorflow:Building subnetwork '1_layer_dnn'\n",
            "INFO:tensorflow:Building subnetwork '2_layer_dnn'\n",
            "INFO:tensorflow:Done calling model_fn.\n",
            "INFO:tensorflow:Starting evaluation at 2018-12-13-18:46:18\n",
            "INFO:tensorflow:Graph was finalized.\n",
            "INFO:tensorflow:Restoring parameters from /tmp/tmpBpWYGG/model.ckpt-5000\n",
            "INFO:tensorflow:Running local_init_op.\n",
            "INFO:tensorflow:Done running local_init_op.\n",
            "INFO:tensorflow:Saving candidate 't0_1_layer_dnn' dict for global step 5000: accuracy/adanet/adanet_weighted_ensemble = 0.8566, accuracy/adanet/subnetwork = 0.8566, accuracy/adanet/uniform_average_ensemble = 0.8566, architecture/adanet/ensembles = \n",
            "a\n",
            "\u003eadanet/iteration_0/ensemble_t0_1_layer_dnn/architecture/adanetB\u0015\u0008\u0007\u0012\u0000B\u000f| 1_layer_dnn |J\u0008\n",
            "\u0006\n",
            "\u0004text, average_loss/adanet/adanet_weighted_ensemble = 0.40864596, average_loss/adanet/subnetwork = 0.40864596, average_loss/adanet/uniform_average_ensemble = 0.40864596, loss/adanet/adanet_weighted_ensemble = 0.40789038, loss/adanet/subnetwork = 0.40789038, loss/adanet/uniform_average_ensemble = 0.40789038\n",
            "INFO:tensorflow:Saving candidate 't1_1_layer_dnn' dict for global step 5000: accuracy/adanet/adanet_weighted_ensemble = 0.8566, accuracy/adanet/subnetwork = 0.8566, accuracy/adanet/uniform_average_ensemble = 0.8566, architecture/adanet/ensembles = \n",
            "o\n",
            "\u003eadanet/iteration_1/ensemble_t1_1_layer_dnn/architecture/adanetB#\u0008\u0007\u0012\u0000B\u001d| 1_layer_dnn | 1_layer_dnn |J\u0008\n",
            "\u0006\n",
            "\u0004text, average_loss/adanet/adanet_weighted_ensemble = 0.40864596, average_loss/adanet/subnetwork = 0.40864596, average_loss/adanet/uniform_average_ensemble = 0.40864596, loss/adanet/adanet_weighted_ensemble = 0.40789038, loss/adanet/subnetwork = 0.40789038, loss/adanet/uniform_average_ensemble = 0.40789038\n",
            "INFO:tensorflow:Saving candidate 't1_2_layer_dnn' dict for global step 5000: accuracy/adanet/adanet_weighted_ensemble = 0.8616, accuracy/adanet/subnetwork = 0.8453, accuracy/adanet/uniform_average_ensemble = 0.8616, architecture/adanet/ensembles = \n",
            "o\n",
            "\u003eadanet/iteration_1/ensemble_t1_2_layer_dnn/architecture/adanetB#\u0008\u0007\u0012\u0000B\u001d| 1_layer_dnn | 2_layer_dnn |J\u0008\n",
            "\u0006\n",
            "\u0004text, average_loss/adanet/adanet_weighted_ensemble = 0.39428768, average_loss/adanet/subnetwork = 0.4410424, average_loss/adanet/uniform_average_ensemble = 0.39428768, loss/adanet/adanet_weighted_ensemble = 0.3936451, loss/adanet/subnetwork = 0.44045082, loss/adanet/uniform_average_ensemble = 0.3936451\n",
            "INFO:tensorflow:Finished evaluation at 2018-12-13-18:46:22\n",
            "INFO:tensorflow:Saving dict for global step 5000: accuracy = 0.8566, accuracy/adanet/adanet_weighted_ensemble = 0.8566, accuracy/adanet/subnetwork = 0.8566, accuracy/adanet/uniform_average_ensemble = 0.8566, average_loss = 0.40864596, average_loss/adanet/adanet_weighted_ensemble = 0.40864596, average_loss/adanet/subnetwork = 0.40864596, average_loss/adanet/uniform_average_ensemble = 0.40864596, global_step = 5000, loss = 0.40789038, loss/adanet/adanet_weighted_ensemble = 0.40789038, loss/adanet/subnetwork = 0.40789038, loss/adanet/uniform_average_ensemble = 0.40789038\n",
            "INFO:tensorflow:Saving 'checkpoint_path' summary for global step 5000: /tmp/tmpBpWYGG/model.ckpt-5000\n",
            "INFO:tensorflow:Loss for final step: 0.21913758.\n",
            "INFO:tensorflow:Finished training Adanet iteration 1\n",
            "Accuracy: 0.8566\n",
            "Loss: 0.40864596\n"
          ]
        }
      ],
      "source": [
        "#@test {\"skip\": true}\n",
        "#@title Parameters\n",
        "LEARNING_RATE = 0.003  #@param {type:\"number\"}\n",
        "TRAIN_STEPS = 5000  #@param {type:\"integer\"}\n",
        "BATCH_SIZE = 64  #@param {type:\"integer\"}\n",
        "ADANET_ITERATIONS = 2  #@param {type:\"integer\"}\n",
        "\n",
        "estimator = adanet.Estimator(\n",
        "    head=head,\n",
        "    subnetwork_generator=simple_dnn.Generator(\n",
        "        feature_columns=feature_columns,\n",
        "        optimizer=tf.train.RMSPropOptimizer(learning_rate=LEARNING_RATE),\n",
        "        seed=RANDOM_SEED),\n",
        "    max_iteration_steps=TRAIN_STEPS // ADANET_ITERATIONS,\n",
        "    evaluator=adanet.Evaluator(\n",
        "        input_fn=input_fn(\"train\", training=False, batch_size=BATCH_SIZE),\n",
        "        steps=None),\n",
        "    config=make_config(\"simple_dnn\"))\n",
        "\n",
        "results, _ = tf.estimator.train_and_evaluate(\n",
        "    estimator,\n",
        "    train_spec=tf.estimator.TrainSpec(\n",
        "        input_fn=input_fn(\"train\", training=True, batch_size=BATCH_SIZE),\n",
        "        max_steps=TRAIN_STEPS),\n",
        "    eval_spec=tf.estimator.EvalSpec(\n",
        "        input_fn=input_fn(\"test\", training=False, batch_size=BATCH_SIZE),\n",
        "        steps=None,\n",
        "        start_delay_secs=1,\n",
        "        throttle_secs=1,  \n",
        "    ))\n",
        "print(\"Accuracy:\", results[\"accuracy\"])\n",
        "print(\"Loss:\", results[\"average_loss\"])"
      ]
    },
    {
      "cell_type": "markdown",
      "metadata": {
        "colab_type": "text",
        "id": "ysWsJ3zXDwNx"
      },
      "source": [
        "The `simple_dnn` AdaNet model with default parameters achieves about **85.66%\n",
        "accuracy**.\n",
        "\n",
        "This improvement can be attributed to `simple_dnn` searching over\n",
        "fully-connected neural networks which have more expressive power than the linear\n",
        "model due to their non-linear activations.\n",
        "\n",
        "Fully-connected layers are permutation invariant to their inputs, meaning that\n",
        "if we consistently swapped two pixels before training, the final model would\n",
        "perform identically. However, there is spatial and locality information in\n",
        "images that we should try to capture. Applying a few convolutions to our inputs\n",
        "will allow us to do so, and that will require defining a custom\n",
        "`adanet.subnetwork.Builder` and `adanet.subnetwork.Generator`."
      ]
    },
    {
      "cell_type": "markdown",
      "metadata": {
        "colab_type": "text",
        "id": "D3IE6-9vFVlg"
      },
      "source": [
        "## Define a convolutional AdaNet model\n",
        "\n",
        "Creating a new search space for AdaNet to explore is straightforward. There are\n",
        "two abstract classes you need to extend:\n",
        "\n",
        "1.  `adanet.subnetwork.Builder`\n",
        "2.  `adanet.subnetwork.Generator`\n",
        "\n",
        "Similar to the tf.estimator.Estimator `model_fn`, `adanet.subnetwork.Builder`\n",
        "allows you to define your own TensorFlow graph for creating a neural network,\n",
        "and specify the training operations.\n",
        "\n",
        "Below we define one that applies a 2D convolution, max-pooling, and then a\n",
        "fully-connected layer to the images:"
      ]
    },
    {
      "cell_type": "code",
      "execution_count": 0,
      "metadata": {
        "colab": {
          "test": {
            "output": "ignore",
            "timeout": 900
          }
        },
        "colab_type": "code",
        "id": "IsYJ97tRwBkt"
      },
      "outputs": [],
      "source": [
        "class SimpleCNNBuilder(adanet.subnetwork.Builder):\n",
        "  \"\"\"Builds a CNN subnetwork for AdaNet.\"\"\"\n",
        "\n",
        "  def __init__(self, learning_rate, max_iteration_steps, seed):\n",
        "    \"\"\"Initializes a `SimpleCNNBuilder`.\n",
        "\n",
        "    Args:\n",
        "      learning_rate: The float learning rate to use.\n",
        "      max_iteration_steps: The number of steps per iteration.\n",
        "      seed: The random seed.\n",
        "\n",
        "    Returns:\n",
        "      An instance of `SimpleCNNBuilder`.\n",
        "    \"\"\"\n",
        "    self._learning_rate = learning_rate\n",
        "    self._max_iteration_steps = max_iteration_steps\n",
        "    self._seed = seed\n",
        "\n",
        "  def build_subnetwork(self,\n",
        "                       features,\n",
        "                       logits_dimension,\n",
        "                       training,\n",
        "                       iteration_step,\n",
        "                       summary,\n",
        "                       previous_ensemble=None):\n",
        "    \"\"\"See `adanet.subnetwork.Builder`.\"\"\"\n",
        "    images = list(features.values())[0]\n",
        "    \n",
        "    # Visualize some of the input images in TensorBoard.\n",
        "    summary.image(\"images\", images)\n",
        "    \n",
        "    kernel_initializer = tf.keras.initializers.he_normal(seed=self._seed)\n",
        "    x = tf.keras.layers.Conv2D(\n",
        "        filters=16,\n",
        "        kernel_size=3,\n",
        "        padding=\"same\",\n",
        "        activation=\"relu\",\n",
        "        kernel_initializer=kernel_initializer)(\n",
        "            images)\n",
        "    x = tf.keras.layers.MaxPool2D(pool_size=2, strides=2)(x)\n",
        "    x = tf.keras.layers.Flatten()(x)\n",
        "    x = tf.keras.layers.Dense(\n",
        "        units=64, activation=\"relu\", kernel_initializer=kernel_initializer)(\n",
        "            x)\n",
        "\n",
        "    # The `Head` passed to adanet.Estimator will apply the softmax activation.\n",
        "    logits = tf.keras.layers.Dense(\n",
        "        units=10, activation=None, kernel_initializer=kernel_initializer)(\n",
        "            x)\n",
        "\n",
        "    # Use a constant complexity measure, since all subnetworks have the same\n",
        "    # architecture and hyperparameters.\n",
        "    complexity = tf.constant(1)\n",
        "\n",
        "    return adanet.Subnetwork(\n",
        "        last_layer=x,\n",
        "        logits=logits,\n",
        "        complexity=complexity,\n",
        "        persisted_tensors={})\n",
        "\n",
        "  def build_subnetwork_train_op(self,\n",
        "                                subnetwork,\n",
        "                                loss,\n",
        "                                var_list,\n",
        "                                labels,\n",
        "                                iteration_step,\n",
        "                                summary,\n",
        "                                previous_ensemble=None):\n",
        "    \"\"\"See `adanet.subnetwork.Builder`.\"\"\"\n",
        "\n",
        "    # Momentum optimizer with cosine learning rate decay works well with CNNs.\n",
        "    learning_rate = tf.train.cosine_decay(\n",
        "        learning_rate=self._learning_rate,\n",
        "        global_step=iteration_step,\n",
        "        decay_steps=self._max_iteration_steps)\n",
        "    optimizer = tf.train.MomentumOptimizer(learning_rate, .9)\n",
        "    # NOTE: The `adanet.Estimator` increments the global step.\n",
        "    return optimizer.minimize(loss=loss, var_list=var_list)\n",
        "\n",
        "  def build_mixture_weights_train_op(self, loss, var_list, logits, labels,\n",
        "                                     iteration_step, summary):\n",
        "    \"\"\"See `adanet.subnetwork.Builder`.\"\"\"\n",
        "    return tf.no_op(\"mixture_weights_train_op\")\n",
        "\n",
        "  @property\n",
        "  def name(self):\n",
        "    \"\"\"See `adanet.subnetwork.Builder`.\"\"\"\n",
        "    return \"simple_cnn\""
      ]
    },
    {
      "cell_type": "markdown",
      "metadata": {
        "colab_type": "text",
        "id": "OFamPrZHJ5ii"
      },
      "source": [
        "Next, we extend a `adanet.subnetwork.Generator`, which defines the search\n",
        "space of candidate `SimpleCNNBuilders` to consider including the final network.\n",
        "It can create one or more at each iteration with different parameters, and the\n",
        "AdaNet algorithm will select the candidate that best improves the overall neural\n",
        "network's `adanet_loss` on the training set.\n",
        "\n",
        "The one below is very simple: it always creates the same architecture, but gives\n",
        "it a different random seed at each iteration:"
      ]
    },
    {
      "cell_type": "code",
      "execution_count": 0,
      "metadata": {
        "colab": {
          "test": {
            "output": "ignore",
            "timeout": 900
          }
        },
        "colab_type": "code",
        "id": "-BAnb_XGwhRy"
      },
      "outputs": [],
      "source": [
        "class SimpleCNNGenerator(adanet.subnetwork.Generator):\n",
        "  \"\"\"Generates a `SimpleCNN` at each iteration.\n",
        "  \"\"\"\n",
        "\n",
        "  def __init__(self, learning_rate, max_iteration_steps, seed=None):\n",
        "    \"\"\"Initializes a `Generator` that builds `SimpleCNNs`.\n",
        "\n",
        "    Args:\n",
        "      learning_rate: The float learning rate to use.\n",
        "      max_iteration_steps: The number of steps per iteration.\n",
        "      seed: The random seed.\n",
        "\n",
        "    Returns:\n",
        "      An instance of `Generator`.\n",
        "    \"\"\"\n",
        "    self._seed = seed\n",
        "    self._dnn_builder_fn = functools.partial(\n",
        "        SimpleCNNBuilder,\n",
        "        learning_rate=learning_rate,\n",
        "        max_iteration_steps=max_iteration_steps)\n",
        "\n",
        "  def generate_candidates(self, previous_ensemble, iteration_number,\n",
        "                          previous_ensemble_reports, all_reports):\n",
        "    \"\"\"See `adanet.subnetwork.Generator`.\"\"\"\n",
        "    seed = self._seed\n",
        "    # Change the seed according to the iteration so that each subnetwork\n",
        "    # learns something different.\n",
        "    if seed is not None:\n",
        "      seed += iteration_number\n",
        "    return [self._dnn_builder_fn(seed=seed)]"
      ]
    },
    {
      "cell_type": "markdown",
      "metadata": {
        "colab_type": "text",
        "id": "8sdvharsLJ1T"
      },
      "source": [
        "With these defined, we pass them into a new `adanet.Estimator`:"
      ]
    },
    {
      "cell_type": "code",
      "execution_count": 0,
      "metadata": {
        "colab": {
          "height": 2658,
          "test": {
            "output": "ignore",
            "timeout": 900
          }
        },
        "colab_type": "code",
        "executionInfo": {
          "elapsed": 11332,
          "status": "error",
          "timestamp": 1545240713586,
          "user": {
            "displayName": "",
            "photoUrl": "",
            "userId": ""
          },
          "user_tz": 300
        },
        "id": "-Fhi1SjkzVBt",
        "outputId": "e61c742c-41a6-4b93-91fe-bcd074c878b1"
      },
      "outputs": [
        {
          "name": "stdout",
          "output_type": "stream",
          "text": [
            "WARNING:tensorflow:Using temporary folder as model directory: /tmp/tmp26gkPN\n",
            "INFO:tensorflow:Using config: {'_save_checkpoints_secs': None, '_num_ps_replicas': 0, '_keep_checkpoint_max': 5, '_task_type': 'worker', '_global_id_in_cluster': 0, '_is_chief': True, '_cluster_spec': \u003ctensorflow.python.training.server_lib.ClusterSpec object at 0x7fb7cbc989d0\u003e, '_model_dir': '/tmp/tmp26gkPN', '_protocol': None, '_save_checkpoints_steps': 50000, '_keep_checkpoint_every_n_hours': 10000, '_service': None, '_session_config': allow_soft_placement: true\n",
            "graph_options {\n",
            "  rewrite_options {\n",
            "    meta_optimizer_iterations: ONE\n",
            "  }\n",
            "}\n",
            ", '_tf_random_seed': 42, '_save_summary_steps': 50000, '_device_fn': None, '_experimental_distribute': None, '_num_worker_replicas': 1, '_task_id': 0, '_log_step_count_steps': 100, '_evaluation_master': '', '_eval_distribute': None, '_train_distribute': None, '_master': ''}\n",
            "INFO:tensorflow:Not using Distribute Coordinator.\n",
            "INFO:tensorflow:Running training and evaluation locally (non-distributed).\n",
            "INFO:tensorflow:Start train and evaluate loop. The evaluate will happen after every checkpoint. Checkpoint frequency is determined based on RunConfig arguments: save_checkpoints_steps 50000 or save_checkpoints_secs None.\n",
            "INFO:tensorflow:Beginning training AdaNet iteration 0\n",
            "INFO:tensorflow:Calling model_fn.\n",
            "INFO:tensorflow:Building iteration 0\n",
            "INFO:tensorflow:Building subnetwork 'simple_cnn'\n",
            "INFO:tensorflow:Done calling model_fn.\n",
            "INFO:tensorflow:Create CheckpointSaverHook.\n",
            "INFO:tensorflow:Graph was finalized.\n",
            "INFO:tensorflow:Running local_init_op.\n",
            "INFO:tensorflow:Done running local_init_op.\n",
            "INFO:tensorflow:Saving checkpoints for 0 into /tmp/tmp26gkPN/model.ckpt.\n",
            "INFO:tensorflow:loss = 2.694181, step = 1\n",
            "INFO:tensorflow:global_step/sec: 26.4719\n",
            "INFO:tensorflow:loss = 0.46676728, step = 101 (3.779 sec)\n",
            "INFO:tensorflow:global_step/sec: 28.0665\n",
            "INFO:tensorflow:loss = 0.24282512, step = 201 (3.563 sec)\n",
            "INFO:tensorflow:global_step/sec: 28.2582\n",
            "INFO:tensorflow:loss = 0.37682933, step = 301 (3.539 sec)\n",
            "INFO:tensorflow:global_step/sec: 28.239\n",
            "INFO:tensorflow:loss = 0.32417423, step = 401 (3.541 sec)\n",
            "INFO:tensorflow:global_step/sec: 28.3116\n",
            "INFO:tensorflow:loss = 0.36117983, step = 501 (3.532 sec)\n",
            "INFO:tensorflow:global_step/sec: 28.2307\n",
            "INFO:tensorflow:loss = 0.15681608, step = 601 (3.542 sec)\n",
            "INFO:tensorflow:global_step/sec: 27.5131\n",
            "INFO:tensorflow:loss = 0.34024912, step = 701 (3.635 sec)\n",
            "INFO:tensorflow:global_step/sec: 27.7937\n",
            "INFO:tensorflow:loss = 0.3881727, step = 801 (3.598 sec)\n",
            "INFO:tensorflow:global_step/sec: 28.2994\n",
            "INFO:tensorflow:loss = 0.20572703, step = 901 (3.534 sec)\n",
            "INFO:tensorflow:global_step/sec: 28.211\n",
            "INFO:tensorflow:loss = 0.16611394, step = 1001 (3.545 sec)\n",
            "INFO:tensorflow:global_step/sec: 28.2366\n",
            "INFO:tensorflow:loss = 0.1561893, step = 1101 (3.541 sec)\n",
            "INFO:tensorflow:global_step/sec: 28.3356\n",
            "INFO:tensorflow:loss = 0.27579066, step = 1201 (3.529 sec)\n",
            "INFO:tensorflow:global_step/sec: 28.263\n",
            "INFO:tensorflow:loss = 0.2819903, step = 1301 (3.538 sec)\n",
            "INFO:tensorflow:global_step/sec: 28.2554\n",
            "INFO:tensorflow:loss = 0.23625316, step = 1401 (3.539 sec)\n",
            "INFO:tensorflow:global_step/sec: 27.9935\n",
            "INFO:tensorflow:loss = 0.2637699, step = 1501 (3.572 sec)\n",
            "INFO:tensorflow:global_step/sec: 28.1246\n",
            "INFO:tensorflow:loss = 0.21633779, step = 1601 (3.555 sec)\n",
            "INFO:tensorflow:global_step/sec: 28.1458\n",
            "INFO:tensorflow:loss = 0.09392404, step = 1701 (3.553 sec)\n",
            "INFO:tensorflow:global_step/sec: 28.1103\n",
            "INFO:tensorflow:loss = 0.11175862, step = 1801 (3.557 sec)\n",
            "INFO:tensorflow:global_step/sec: 28.2291\n",
            "INFO:tensorflow:loss = 0.16241878, step = 1901 (3.543 sec)\n",
            "INFO:tensorflow:global_step/sec: 28.2085\n",
            "INFO:tensorflow:loss = 0.2617167, step = 2001 (3.545 sec)\n",
            "INFO:tensorflow:global_step/sec: 28.2504\n",
            "INFO:tensorflow:loss = 0.17909388, step = 2101 (3.540 sec)\n",
            "INFO:tensorflow:global_step/sec: 26.4995\n",
            "INFO:tensorflow:loss = 0.14431182, step = 2201 (3.774 sec)\n",
            "INFO:tensorflow:global_step/sec: 26.1445\n",
            "INFO:tensorflow:loss = 0.41680542, step = 2301 (3.825 sec)\n",
            "INFO:tensorflow:global_step/sec: 25.8637\n",
            "INFO:tensorflow:loss = 0.12174833, step = 2401 (3.866 sec)\n",
            "INFO:tensorflow:Saving checkpoints for 2500 into /tmp/tmp26gkPN/model.ckpt.\n",
            "INFO:tensorflow:Calling model_fn.\n",
            "INFO:tensorflow:Building iteration 0\n",
            "INFO:tensorflow:Building subnetwork 'simple_cnn'\n",
            "INFO:tensorflow:Done calling model_fn.\n",
            "INFO:tensorflow:Starting evaluation at 2018-12-13-18:48:13\n",
            "INFO:tensorflow:Graph was finalized.\n",
            "INFO:tensorflow:Restoring parameters from /tmp/tmp26gkPN/model.ckpt-2500\n",
            "INFO:tensorflow:Running local_init_op.\n",
            "INFO:tensorflow:Done running local_init_op.\n",
            "INFO:tensorflow:Saving candidate 't0_simple_cnn' dict for global step 2500: accuracy/adanet/adanet_weighted_ensemble = 0.9017, accuracy/adanet/subnetwork = 0.9017, accuracy/adanet/uniform_average_ensemble = 0.9017, architecture/adanet/ensembles = \n",
            "_\n",
            "=adanet/iteration_0/ensemble_t0_simple_cnn/architecture/adanetB\u0014\u0008\u0007\u0012\u0000B\u000e| simple_cnn |J\u0008\n",
            "\u0006\n",
            "\u0004text, average_loss/adanet/adanet_weighted_ensemble = 0.27215192, average_loss/adanet/subnetwork = 0.27215192, average_loss/adanet/uniform_average_ensemble = 0.27215192, loss/adanet/adanet_weighted_ensemble = 0.2720527, loss/adanet/subnetwork = 0.2720527, loss/adanet/uniform_average_ensemble = 0.2720527\n",
            "INFO:tensorflow:Finished evaluation at 2018-12-13-18:48:18\n",
            "INFO:tensorflow:Saving dict for global step 2500: accuracy = 0.9017, accuracy/adanet/adanet_weighted_ensemble = 0.9017, accuracy/adanet/subnetwork = 0.9017, accuracy/adanet/uniform_average_ensemble = 0.9017, average_loss = 0.27215192, average_loss/adanet/adanet_weighted_ensemble = 0.27215192, average_loss/adanet/subnetwork = 0.27215192, average_loss/adanet/uniform_average_ensemble = 0.27215192, global_step = 2500, loss = 0.2720527, loss/adanet/adanet_weighted_ensemble = 0.2720527, loss/adanet/subnetwork = 0.2720527, loss/adanet/uniform_average_ensemble = 0.2720527\n",
            "INFO:tensorflow:Saving 'checkpoint_path' summary for global step 2500: /tmp/tmp26gkPN/model.ckpt-2500\n",
            "INFO:tensorflow:Loss for final step: 0.24984711.\n",
            "INFO:tensorflow:Finished training Adanet iteration 0\n",
            "INFO:tensorflow:Beginning bookkeeping phase for iteration 0\n",
            "INFO:tensorflow:Building iteration 0\n",
            "INFO:tensorflow:Building subnetwork 'simple_cnn'\n",
            "INFO:tensorflow:As the only candidate, 't0_simple_cnn' is moving onto the next iteration.\n",
            "INFO:tensorflow:Importing architecture from /tmp/tmp26gkPN/architecture-0.txt: ['0:simple_cnn'].\n",
            "INFO:tensorflow:Rebuilding iteration 0\n",
            "INFO:tensorflow:Building subnetwork 'simple_cnn'\n",
            "INFO:tensorflow:Warm-starting from: (u'/tmp/tmp26gkPN/model.ckpt-2500',)\n",
            "INFO:tensorflow:Warm-starting variable: global_step; prev_var_name: Unchanged\n",
            "INFO:tensorflow:Warm-starting variable: adanet/iteration_0/ensemble_t0_simple_cnn/weighted_subnetwork_0/subnetwork/dense_1/kernel; prev_var_name: Unchanged\n",
            "INFO:tensorflow:Warm-starting variable: adanet/iteration_0/candidate_t0_simple_cnn/adanet/iteration_0/candidate_t0_simple_cnn/adanet_loss/biased; prev_var_name: Unchanged\n",
            "INFO:tensorflow:Warm-starting variable: adanet/iteration_0/ensemble_t0_simple_cnn/weighted_subnetwork_0/subnetwork/conv2d/kernel; prev_var_name: Unchanged\n",
            "INFO:tensorflow:Warm-starting variable: adanet/iteration_0/ensemble_t0_simple_cnn/weighted_subnetwork_0/subnetwork/dense/kernel; prev_var_name: Unchanged\n",
            "INFO:tensorflow:Warm-starting variable: adanet/iteration_0/ensemble_t0_simple_cnn/weighted_subnetwork_0/subnetwork/conv2d/bias; prev_var_name: Unchanged\n",
            "INFO:tensorflow:Warm-starting variable: adanet/iteration_0/ensemble_t0_simple_cnn/bias; prev_var_name: Unchanged\n",
            "INFO:tensorflow:Warm-starting variable: adanet/iteration_0/train_op/is_over/is_over_var_fn/is_over_var; prev_var_name: Unchanged\n",
            "INFO:tensorflow:Warm-starting variable: adanet/iteration_0/step; prev_var_name: Unchanged\n",
            "INFO:tensorflow:Warm-starting variable: adanet/iteration_0/candidate_t0_simple_cnn/adanet/iteration_0/candidate_t0_simple_cnn/adanet_loss/local_step; prev_var_name: Unchanged\n",
            "INFO:tensorflow:Warm-starting variable: adanet/iteration_0/candidate_t0_simple_cnn/adanet_loss; prev_var_name: Unchanged\n",
            "INFO:tensorflow:Warm-starting variable: adanet/iteration_0/ensemble_t0_simple_cnn/weighted_subnetwork_0/subnetwork/dense_1/bias; prev_var_name: Unchanged\n",
            "INFO:tensorflow:Warm-starting variable: adanet/iteration_0/ensemble_t0_simple_cnn/weighted_subnetwork_0/logits/mixture_weight; prev_var_name: Unchanged\n",
            "INFO:tensorflow:Warm-starting variable: adanet/iteration_0/ensemble_t0_simple_cnn/weighted_subnetwork_0/subnetwork/dense/bias; prev_var_name: Unchanged\n",
            "INFO:tensorflow:Building iteration 1\n",
            "INFO:tensorflow:Building subnetwork 'simple_cnn'\n",
            "INFO:tensorflow:Overwriting checkpoint with new graph for iteration 1 to /tmp/tmp26gkPN/model.ckpt-2500\n",
            "WARNING:tensorflow:`tf.train.start_queue_runners()` was called when no queue runners were defined. You can safely remove the call to this deprecated function.\n",
            "INFO:tensorflow:Finished bookkeeping phase for iteration 0\n",
            "INFO:tensorflow:Beginning training AdaNet iteration 1\n",
            "INFO:tensorflow:Calling model_fn.\n",
            "INFO:tensorflow:Importing architecture from /tmp/tmp26gkPN/architecture-0.txt: ['0:simple_cnn'].\n",
            "INFO:tensorflow:Rebuilding iteration 0\n",
            "INFO:tensorflow:Building subnetwork 'simple_cnn'\n",
            "INFO:tensorflow:Building iteration 1\n",
            "INFO:tensorflow:Building subnetwork 'simple_cnn'\n",
            "INFO:tensorflow:Done calling model_fn.\n",
            "INFO:tensorflow:Create CheckpointSaverHook.\n",
            "INFO:tensorflow:Graph was finalized.\n",
            "INFO:tensorflow:Restoring parameters from /tmp/tmp26gkPN/increment.ckpt-1\n",
            "INFO:tensorflow:Running local_init_op.\n",
            "INFO:tensorflow:Done running local_init_op.\n",
            "INFO:tensorflow:Saving checkpoints for 2500 into /tmp/tmp26gkPN/model.ckpt.\n",
            "INFO:tensorflow:loss = 0.151891, step = 2501\n",
            "INFO:tensorflow:global_step/sec: 20.6697\n",
            "INFO:tensorflow:loss = 0.2222729, step = 2601 (4.839 sec)\n",
            "INFO:tensorflow:global_step/sec: 22.256\n",
            "INFO:tensorflow:loss = 0.09993973, step = 2701 (4.493 sec)\n",
            "INFO:tensorflow:global_step/sec: 22.1772\n",
            "INFO:tensorflow:loss = 0.20959951, step = 2801 (4.509 sec)\n",
            "INFO:tensorflow:global_step/sec: 22.4273\n",
            "INFO:tensorflow:loss = 0.29977563, step = 2901 (4.459 sec)\n",
            "INFO:tensorflow:global_step/sec: 22.4256\n",
            "INFO:tensorflow:loss = 0.12138975, step = 3001 (4.459 sec)\n",
            "INFO:tensorflow:global_step/sec: 22.4122\n",
            "INFO:tensorflow:loss = 0.059896674, step = 3101 (4.462 sec)\n",
            "INFO:tensorflow:global_step/sec: 22.3829\n",
            "INFO:tensorflow:loss = 0.24690302, step = 3201 (4.467 sec)\n",
            "INFO:tensorflow:global_step/sec: 22.2736\n",
            "INFO:tensorflow:loss = 0.30908775, step = 3301 (4.490 sec)\n",
            "INFO:tensorflow:global_step/sec: 22.3572\n",
            "INFO:tensorflow:loss = 0.12569772, step = 3401 (4.473 sec)\n",
            "INFO:tensorflow:global_step/sec: 22.0862\n",
            "INFO:tensorflow:loss = 0.11210311, step = 3501 (4.528 sec)\n",
            "INFO:tensorflow:global_step/sec: 22.2895\n",
            "INFO:tensorflow:loss = 0.07889283, step = 3601 (4.486 sec)\n",
            "INFO:tensorflow:global_step/sec: 21.9683\n",
            "INFO:tensorflow:loss = 0.19373977, step = 3701 (4.552 sec)\n",
            "INFO:tensorflow:global_step/sec: 21.1165\n",
            "INFO:tensorflow:loss = 0.21523649, step = 3801 (4.736 sec)\n",
            "INFO:tensorflow:global_step/sec: 22.3396\n",
            "INFO:tensorflow:loss = 0.19285265, step = 3901 (4.476 sec)\n",
            "INFO:tensorflow:global_step/sec: 22.4277\n",
            "INFO:tensorflow:loss = 0.19397877, step = 4001 (4.459 sec)\n",
            "INFO:tensorflow:global_step/sec: 22.386\n",
            "INFO:tensorflow:loss = 0.18937594, step = 4101 (4.467 sec)\n",
            "INFO:tensorflow:global_step/sec: 22.4573\n",
            "INFO:tensorflow:loss = 0.0852247, step = 4201 (4.453 sec)\n",
            "INFO:tensorflow:global_step/sec: 22.3419\n",
            "INFO:tensorflow:loss = 0.10364103, step = 4301 (4.476 sec)\n",
            "INFO:tensorflow:global_step/sec: 22.2885\n",
            "INFO:tensorflow:loss = 0.14810272, step = 4401 (4.487 sec)\n",
            "INFO:tensorflow:global_step/sec: 22.323\n",
            "INFO:tensorflow:loss = 0.20514096, step = 4501 (4.480 sec)\n",
            "INFO:tensorflow:global_step/sec: 22.4002\n",
            "INFO:tensorflow:loss = 0.16804385, step = 4601 (4.464 sec)\n",
            "INFO:tensorflow:global_step/sec: 22.2988\n",
            "INFO:tensorflow:loss = 0.13350865, step = 4701 (4.485 sec)\n",
            "INFO:tensorflow:global_step/sec: 21.9738\n",
            "INFO:tensorflow:loss = 0.3896428, step = 4801 (4.551 sec)\n",
            "INFO:tensorflow:global_step/sec: 22.1545\n",
            "INFO:tensorflow:loss = 0.11354022, step = 4901 (4.513 sec)\n",
            "INFO:tensorflow:Saving checkpoints for 5000 into /tmp/tmp26gkPN/model.ckpt.\n",
            "INFO:tensorflow:Calling model_fn.\n",
            "INFO:tensorflow:Importing architecture from /tmp/tmp26gkPN/architecture-0.txt: ['0:simple_cnn'].\n",
            "INFO:tensorflow:Rebuilding iteration 0\n",
            "INFO:tensorflow:Building subnetwork 'simple_cnn'\n",
            "INFO:tensorflow:Building iteration 1\n",
            "INFO:tensorflow:Building subnetwork 'simple_cnn'\n",
            "INFO:tensorflow:Done calling model_fn.\n",
            "INFO:tensorflow:Starting evaluation at 2018-12-13-18:50:19\n",
            "INFO:tensorflow:Graph was finalized.\n",
            "INFO:tensorflow:Restoring parameters from /tmp/tmp26gkPN/model.ckpt-5000\n",
            "INFO:tensorflow:Running local_init_op.\n",
            "INFO:tensorflow:Done running local_init_op.\n",
            "INFO:tensorflow:Saving candidate 't0_simple_cnn' dict for global step 5000: accuracy/adanet/adanet_weighted_ensemble = 0.9017, accuracy/adanet/subnetwork = 0.9017, accuracy/adanet/uniform_average_ensemble = 0.9017, architecture/adanet/ensembles = \n",
            "_\n",
            "=adanet/iteration_0/ensemble_t0_simple_cnn/architecture/adanetB\u0014\u0008\u0007\u0012\u0000B\u000e| simple_cnn |J\u0008\n",
            "\u0006\n",
            "\u0004text, average_loss/adanet/adanet_weighted_ensemble = 0.27215192, average_loss/adanet/subnetwork = 0.27215192, average_loss/adanet/uniform_average_ensemble = 0.27215192, loss/adanet/adanet_weighted_ensemble = 0.2720527, loss/adanet/subnetwork = 0.2720527, loss/adanet/uniform_average_ensemble = 0.2720527\n",
            "INFO:tensorflow:Saving candidate 't1_simple_cnn' dict for global step 5000: accuracy/adanet/adanet_weighted_ensemble = 0.9046, accuracy/adanet/subnetwork = 0.9005, accuracy/adanet/uniform_average_ensemble = 0.9046, architecture/adanet/ensembles = \n",
            "l\n",
            "=adanet/iteration_1/ensemble_t1_simple_cnn/architecture/adanetB!\u0008\u0007\u0012\u0000B\u001b| simple_cnn | simple_cnn |J\u0008\n",
            "\u0006\n",
            "\u0004text, average_loss/adanet/adanet_weighted_ensemble = 0.26144233, average_loss/adanet/subnetwork = 0.26964897, average_loss/adanet/uniform_average_ensemble = 0.26144233, loss/adanet/adanet_weighted_ensemble = 0.26114514, loss/adanet/subnetwork = 0.26923987, loss/adanet/uniform_average_ensemble = 0.26114514\n",
            "INFO:tensorflow:Finished evaluation at 2018-12-13-18:50:26\n",
            "INFO:tensorflow:Saving dict for global step 5000: accuracy = 0.9046, accuracy/adanet/adanet_weighted_ensemble = 0.9046, accuracy/adanet/subnetwork = 0.9005, accuracy/adanet/uniform_average_ensemble = 0.9046, average_loss = 0.26144233, average_loss/adanet/adanet_weighted_ensemble = 0.26144233, average_loss/adanet/subnetwork = 0.26964897, average_loss/adanet/uniform_average_ensemble = 0.26144233, global_step = 5000, loss = 0.26114514, loss/adanet/adanet_weighted_ensemble = 0.26114514, loss/adanet/subnetwork = 0.26923987, loss/adanet/uniform_average_ensemble = 0.26114514\n",
            "INFO:tensorflow:Saving 'checkpoint_path' summary for global step 5000: /tmp/tmp26gkPN/model.ckpt-5000\n",
            "INFO:tensorflow:Loss for final step: 0.24514686.\n",
            "INFO:tensorflow:Finished training Adanet iteration 1\n",
            "Accuracy: 0.9046\n",
            "Loss: 0.26144233\n"
          ]
        }
      ],
      "source": [
        "#@title Parameters\n",
        "LEARNING_RATE = 0.05  #@param {type:\"number\"}\n",
        "TRAIN_STEPS = 5000  #@param {type:\"integer\"}\n",
        "BATCH_SIZE = 64  #@param {type:\"integer\"}\n",
        "ADANET_ITERATIONS = 2  #@param {type:\"integer\"}\n",
        "\n",
        "max_iteration_steps = TRAIN_STEPS // ADANET_ITERATIONS\n",
        "estimator = adanet.Estimator(\n",
        "    head=head,\n",
        "    subnetwork_generator=SimpleCNNGenerator(\n",
        "        learning_rate=LEARNING_RATE,\n",
        "        max_iteration_steps=max_iteration_steps,\n",
        "        seed=RANDOM_SEED),\n",
        "    max_iteration_steps=max_iteration_steps,\n",
        "    evaluator=adanet.Evaluator(\n",
        "        input_fn=input_fn(\"train\", training=False, batch_size=BATCH_SIZE),\n",
        "        steps=None),\n",
        "    adanet_loss_decay=.99,\n",
        "    config=make_config(\"simple_cnn\"))\n",
        "\n",
        "results, _ = tf.estimator.train_and_evaluate(\n",
        "    estimator,\n",
        "    train_spec=tf.estimator.TrainSpec(\n",
        "        input_fn=input_fn(\"train\", training=True, batch_size=BATCH_SIZE),\n",
        "        max_steps=TRAIN_STEPS),\n",
        "    eval_spec=tf.estimator.EvalSpec(\n",
        "        input_fn=input_fn(\"test\", training=False, batch_size=BATCH_SIZE),\n",
        "        steps=None,\n",
        "        start_delay_secs=1,\n",
        "        throttle_secs=1,  \n",
        "    ))\n",
        "print(\"Accuracy:\", results[\"accuracy\"])\n",
        "print(\"Loss:\", results[\"average_loss\"])"
      ]
    },
    {
      "cell_type": "markdown",
      "metadata": {
        "colab_type": "text",
        "id": "3wGtI-4_LRw1"
      },
      "source": [
        "Our `SimpleCNNGenerator` code achieves **90.46% accuracy**."
      ]
    },
    {
      "cell_type": "markdown",
      "metadata": {
        "colab_type": "text",
        "id": "EeQG9tuW4RF8"
      },
      "source": [
        "## Generating predictions on our trained model\n",
        "\n",
        "Now that we've got a trained model, we can use it to generate predictions on new input. To keep things simple, here we'll generate predictions on our `estimator` using the first 10 examples from the test set."
      ]
    },
    {
      "cell_type": "code",
      "execution_count": 0,
      "metadata": {
        "colab": {
          "base_uri": "https://localhost:8080/",
          "height": 1801,
          "test": {
            "output": "ignore",
            "timeout": 900
          }
        },
        "colab_type": "code",
        "id": "dzBtgkgm4RF8",
        "outputId": "72536c35-8ca3-4fb7-c372-5736ba4815a9"
      },
      "outputs": [
        {
          "name": "stdout",
          "output_type": "stream",
          "text": [
            "INFO:tensorflow:Calling model_fn.\n",
            "INFO:tensorflow:Importing architecture from /tmp/tmp26gkPN/architecture-0.txt: ['0:simple_cnn'].\n",
            "INFO:tensorflow:Rebuilding iteration 0\n",
            "INFO:tensorflow:Building subnetwork 'simple_cnn'\n",
            "INFO:tensorflow:Building iteration 1\n",
            "INFO:tensorflow:Building subnetwork 'simple_cnn'\n",
            "INFO:tensorflow:Done calling model_fn.\n",
            "INFO:tensorflow:Graph was finalized.\n",
            "INFO:tensorflow:Restoring parameters from /tmp/tmp26gkPN/model.ckpt-5000\n",
            "INFO:tensorflow:Running local_init_op.\n",
            "INFO:tensorflow:Done running local_init_op.\n"
          ]
        },
        {
          "data": {
            "image/png": "[encoded data removed]",
            "text/plain": [
              "\u003cmatplotlib.figure.Figure at 0x7fb7d6558f50\u003e"
            ]
          },
          "metadata": {
            "tags": []
          },
          "output_type": "display_data"
        },
        {
          "name": "stdout",
          "output_type": "stream",
          "text": [
            "Predicted class: 9, confidence: 98.987%\n",
            "Actual class: 9 \n",
            "\n",
            "\n"
          ]
        },
        {
          "data": {
            "image/png": "[encoded data removed]",
            "text/plain": [
              "\u003cmatplotlib.figure.Figure at 0x7fb7d7810bd0\u003e"
            ]
          },
          "metadata": {
            "tags": []
          },
          "output_type": "display_data"
        },
        {
          "name": "stdout",
          "output_type": "stream",
          "text": [
            "Predicted class: 2, confidence: 99.971%\n",
            "Actual class: 2 \n",
            "\n",
            "\n"
          ]
        },
        {
          "data": {
            "image/png": "[encoded data removed]",
            "text/plain": [
              "\u003cmatplotlib.figure.Figure at 0x7fb7d6d23310\u003e"
            ]
          },
          "metadata": {
            "tags": []
          },
          "output_type": "display_data"
        },
        {
          "name": "stdout",
          "output_type": "stream",
          "text": [
            "Predicted class: 1, confidence: 100.0%\n",
            "Actual class: 1 \n",
            "\n",
            "\n"
          ]
        },
        {
          "data": {
            "image/png": "[encoded data removed]",
            "text/plain": [
              "\u003cmatplotlib.figure.Figure at 0x7fb7ccfa0590\u003e"
            ]
          },
          "metadata": {
            "tags": []
          },
          "output_type": "display_data"
        },
        {
          "name": "stdout",
          "output_type": "stream",
          "text": [
            "Predicted class: 1, confidence: 100.0%\n",
            "Actual class: 1 \n",
            "\n",
            "\n"
          ]
        },
        {
          "data": {
            "image/png": "[encoded data removed]",
            "text/plain": [
              "\u003cmatplotlib.figure.Figure at 0x7fb7d3f78810\u003e"
            ]
          },
          "metadata": {
            "tags": []
          },
          "output_type": "display_data"
        },
        {
          "name": "stdout",
          "output_type": "stream",
          "text": [
            "Predicted class: 6, confidence: 89.767%\n",
            "Actual class: 6 \n",
            "\n",
            "\n"
          ]
        },
        {
          "data": {
            "image/png": "[encoded data removed]",
            "text/plain": [
              "\u003cmatplotlib.figure.Figure at 0x7fb7cbc7a090\u003e"
            ]
          },
          "metadata": {
            "tags": []
          },
          "output_type": "display_data"
        },
        {
          "name": "stdout",
          "output_type": "stream",
          "text": [
            "Predicted class: 1, confidence: 99.995%\n",
            "Actual class: 1 \n",
            "\n",
            "\n"
          ]
        },
        {
          "data": {
            "image/png": "[encoded data removed]",
            "text/plain": [
              "\u003cmatplotlib.figure.Figure at 0x7fb7cbc8a890\u003e"
            ]
          },
          "metadata": {
            "tags": []
          },
          "output_type": "display_data"
        },
        {
          "name": "stdout",
          "output_type": "stream",
          "text": [
            "Predicted class: 4, confidence: 88.968%\n",
            "Actual class: 4 \n",
            "\n",
            "\n"
          ]
        },
        {
          "data": {
            "image/png": "[encoded data removed]",
            "text/plain": [
              "\u003cmatplotlib.figure.Figure at 0x7fb7d0b69dd0\u003e"
            ]
          },
          "metadata": {
            "tags": []
          },
          "output_type": "display_data"
        },
        {
          "name": "stdout",
          "output_type": "stream",
          "text": [
            "Predicted class: 6, confidence: 95.252%\n",
            "Actual class: 6 \n",
            "\n",
            "\n"
          ]
        },
        {
          "data": {
            "image/png": "[encoded data removed]",
            "text/plain": [
              "\u003cmatplotlib.figure.Figure at 0x7fb7d415afd0\u003e"
            ]
          },
          "metadata": {
            "tags": []
          },
          "output_type": "display_data"
        },
        {
          "name": "stdout",
          "output_type": "stream",
          "text": [
            "Predicted class: 5, confidence: 99.869%\n",
            "Actual class: 5 \n",
            "\n",
            "\n"
          ]
        },
        {
          "data": {
            "image/png": "[encoded data removed]",
            "text/plain": [
              "\u003cmatplotlib.figure.Figure at 0x7fb7ccf96490\u003e"
            ]
          },
          "metadata": {
            "tags": []
          },
          "output_type": "display_data"
        },
        {
          "name": "stdout",
          "output_type": "stream",
          "text": [
            "Predicted class: 7, confidence: 99.997%\n",
            "Actual class: 7 \n",
            "\n",
            "\n"
          ]
        }
      ],
      "source": [
        "predictions = estimator.predict(input_fn=input_fn(\"predict\", training=False, batch_size=1))\n",
        "\n",
        "for i, val in enumerate(predictions):\n",
        "    predicted_class = val['class_ids'][0]\n",
        "    prediction_confidence = val['probabilities'][predicted_class] * 100\n",
        "    \n",
        "    # Display the image\n",
        "    plt.imshow(x_test[i])\n",
        "    plt.rcParams['figure.figsize'] = (1,1)\n",
        "    plt.show()\n",
        "    \n",
        "    print('Predicted class: %s, confidence: %s%%' % (predicted_class, round(prediction_confidence, 3)))\n",
        "    print('Actual class: %s \\n\\n' % y_test[i])"
      ]
    },
    {
      "cell_type": "markdown",
      "metadata": {
        "colab_type": "text",
        "id": "TKhCzP65hGyS"
      },
      "source": [
        "## Conclusion and next steps\n",
        "\n",
        "In this tutorial, you learned how to customize `adanet` to encode your\n",
        "understanding of a particular dataset, and explore novel search spaces with\n",
        "AdaNet.\n",
        "\n",
        "One use-case that has worked for us at Google, has been to take a production\n",
        "model's TensorFlow code, convert it to into an `adanet.subnetwork.Builder`, and\n",
        "adaptively grow it into an ensemble. In many cases, this has given significant\n",
        "performance improvements.\n",
        "\n",
        "As an exercise, you can swap out the FASHION-MNIST with the MNIST handwritten\n",
        "digits dataset in this notebook using `tf.keras.datasets.mnist.load_data()`, and\n",
        "see how `SimpleCNN` performs."
      ]
    }
  ],
  "metadata": {
    "colab": {
      "collapsed_sections": [],
      "name": "customizing_adanet.ipynb",
      "provenance": [],
      "version": "0.3.2"
    }
  },
  "nbformat": 4,
  "nbformat_minor": 0
}
